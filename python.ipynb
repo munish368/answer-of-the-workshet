{
 "cells": [
  {
   "cell_type": "code",
   "execution_count": null,
   "id": "55de98da",
   "metadata": {},
   "outputs": [],
   "source": [
    "X = 1 \n",
    "for i in range(1,11):\n",
    "    X=X*i\n",
    "print(X)"
   ]
  },
  {
   "cell_type": "code",
   "execution_count": 1,
   "id": "e86ece09",
   "metadata": {},
   "outputs": [
    {
     "name": "stdout",
     "output_type": "stream",
     "text": [
      "enter any number34\n",
      "34  is a composite number\n"
     ]
    }
   ],
   "source": [
    "number = int(input(\"enter any number\"))\n",
    "if number < 1:\n",
    "    print(\"number needs to be greater than 1\")\n",
    "elif number == 1:\n",
    "    print(number, \" is nigther prime nor composite\")\n",
    "else:\n",
    "    for divisor in range(2, (number//2)+1):\n",
    "        if (number % divisor) == 0:\n",
    "            print(number,\" is a composite number\")\n",
    "            break\n",
    "    else:\n",
    "        print(number,\" is a prime number\")"
   ]
  },
  {
   "cell_type": "code",
   "execution_count": 2,
   "id": "1b7d9684",
   "metadata": {},
   "outputs": [
    {
     "name": "stdout",
     "output_type": "stream",
     "text": [
      " enter a string:mama\n",
      "not palindrome string\n"
     ]
    }
   ],
   "source": [
    "a = input(\" enter a string:\")\n",
    "b = a[-1::-1]\n",
    "if(a==b):\n",
    "    print(\"palindrome string\")\n",
    "else:\n",
    "    print(\"not palindrome string\")"
   ]
  },
  {
   "cell_type": "code",
   "execution_count": 3,
   "id": "8f53e218",
   "metadata": {},
   "outputs": [
    {
     "name": "stdout",
     "output_type": "stream",
     "text": [
      "enter the length\n",
      "a: 3\n",
      "b: 4\n",
      "the length of the hypotenuse is 5.0\n"
     ]
    }
   ],
   "source": [
    "from math import sqrt\n",
    "print(\"enter the length\")\n",
    "a= float(input(\"a: \"))\n",
    "b= float(input(\"b: \"))\n",
    "\n",
    "c= sqrt(a**2 + b**2)\n",
    "print(\"the length of the hypotenuse is\", c)"
   ]
  },
  {
   "cell_type": "code",
   "execution_count": 4,
   "id": "a9cc17b8",
   "metadata": {},
   "outputs": [
    {
     "name": "stdout",
     "output_type": "stream",
     "text": [
      "enter the stringchhbgrrh\n",
      "{'c': 1, 'h': 3, 'b': 1, 'g': 1, 'r': 2}\n"
     ]
    }
   ],
   "source": [
    "str1 = input(\"enter the string\")\n",
    "d1 = dict()\n",
    "for c in str1:\n",
    "    if c in d1:\n",
    "        d1[c] = d1[c] + 1\n",
    "    else:\n",
    "        d1[c] = 1\n",
    "print (d1)  "
   ]
  },
  {
   "cell_type": "code",
   "execution_count": null,
   "id": "5073141d",
   "metadata": {},
   "outputs": [],
   "source": []
  }
 ],
 "metadata": {
  "kernelspec": {
   "display_name": "Python 3",
   "language": "python",
   "name": "python3"
  },
  "language_info": {
   "codemirror_mode": {
    "name": "ipython",
    "version": 3
   },
   "file_extension": ".py",
   "mimetype": "text/x-python",
   "name": "python",
   "nbconvert_exporter": "python",
   "pygments_lexer": "ipython3",
   "version": "3.8.8"
  }
 },
 "nbformat": 4,
 "nbformat_minor": 5
}

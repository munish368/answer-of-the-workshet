{
 "cells": [
  {
   "cell_type": "code",
   "execution_count": null,
   "id": "87883be0",
   "metadata": {},
   "outputs": [],
   "source": [
    "from bs4 import BeautifulSoup\n",
    "import requests\n",
    "import pandas as pd"
   ]
  },
  {
   "cell_type": "code",
   "execution_count": null,
   "id": "b6955afa",
   "metadata": {},
   "outputs": [],
   "source": [
    "url = \"https://en.wikipedia.org/wiki/Main_Page\"\n",
    "url"
   ]
  },
  {
   "cell_type": "code",
   "execution_count": null,
   "id": "0de8cdbe",
   "metadata": {},
   "outputs": [],
   "source": [
    "page = requests.get(url)\n",
    "htmlcontent = page.content \n",
    "soup = BeautifulSoup(htmlcontent, \"html.parser\")\n",
    "print(soup.prettify)"
   ]
  },
  {
   "cell_type": "code",
   "execution_count": null,
   "id": "056c5c8f",
   "metadata": {},
   "outputs": [],
   "source": [
    "titles = soup.find_all(['h1', 'h2','h3','h4','h5','h6'])\n",
    "titles"
   ]
  },
  {
   "cell_type": "code",
   "execution_count": null,
   "id": "818db78a",
   "metadata": {},
   "outputs": [],
   "source": [
    "page = requests.get(\"https://www.imdb.com/chart/top\")\n",
    "page"
   ]
  },
  {
   "cell_type": "code",
   "execution_count": null,
   "id": "bcbc821b",
   "metadata": {},
   "outputs": [],
   "source": [
    "soup = BeautifulSoup(page.content)\n",
    "soup"
   ]
  },
  {
   "cell_type": "code",
   "execution_count": null,
   "id": "124e2faa",
   "metadata": {},
   "outputs": [],
   "source": [
    "soup = BeautifulSoup(page.content, \"html.parser\")\n",
    "print(soup.prettify())"
   ]
  },
  {
   "cell_type": "code",
   "execution_count": null,
   "id": "59e7b82b",
   "metadata": {},
   "outputs": [],
   "source": [
    "movies = soup.find_all('td', class_ = 'titleColumn')\n",
    "scraped_movies=[]\n",
    "for i in range(0,100):\n",
    "    scraped_movies.append(movies[i].get_text().replace('\\n',\" \"))\n",
    "scraped_movies"
   ]
  },
  {
   "cell_type": "code",
   "execution_count": null,
   "id": "ec779a10",
   "metadata": {},
   "outputs": [],
   "source": [
    "ratings = soup.find_all('td', class_='ratingColumn imdbRating')\n",
    "scraped_ratings = []\n",
    "for i in range(0,100):\n",
    "    scraped_ratings.append(ratings[i].get_text().replace('\\n',\" \"))\n",
    "scraped_ratings"
   ]
  },
  {
   "cell_type": "code",
   "execution_count": null,
   "id": "85d11a5a",
   "metadata": {},
   "outputs": [],
   "source": [
    "data = pd.DataFrame()\n",
    "data['movie names']= scraped_movies\n",
    "data['ratings'] = scraped_ratings\n",
    "data"
   ]
  },
  {
   "cell_type": "code",
   "execution_count": null,
   "id": "6fc8a582",
   "metadata": {},
   "outputs": [],
   "source": [
    "url = (\"https://www.imdb.com/india/top-rated-indian-movies/?pf_rd_m=A2FGELUUNOQJNL&pf_rd_p=8a7876cd-2844-4017-846a-2c0876945b7b&pf_rd_r=QR3SZX9DEQRGDF1P2\")\n",
    "url"
   ]
  },
  {
   "cell_type": "code",
   "execution_count": null,
   "id": "881a409f",
   "metadata": {},
   "outputs": [],
   "source": [
    "page = requests.get(url)\n",
    "page"
   ]
  },
  {
   "cell_type": "code",
   "execution_count": null,
   "id": "b8dde464",
   "metadata": {},
   "outputs": [],
   "source": [
    "htmlcontent = page.content\n",
    "print(htmlcontent)"
   ]
  },
  {
   "cell_type": "code",
   "execution_count": null,
   "id": "390e782e",
   "metadata": {},
   "outputs": [],
   "source": [
    "soup = BeautifulSoup(htmlcontent, \"html.parser\")\n",
    "print(soup.prettify)"
   ]
  },
  {
   "cell_type": "code",
   "execution_count": null,
   "id": "25e86773",
   "metadata": {},
   "outputs": [],
   "source": [
    "movies = soup.find_all('td',class_=\"titleColumn\")\n",
    "ind_movies = []\n",
    "for i in range(0,100):\n",
    "    ind_movies.append(movies[i].get_text().replace('\\n',\"\"))\n",
    "ind_movies"
   ]
  },
  {
   "cell_type": "code",
   "execution_count": null,
   "id": "b16c0852",
   "metadata": {},
   "outputs": [],
   "source": [
    "rating = soup.find_all('td',class_= \"ratingColumn imdbRating\")\n",
    "ind_rating = []\n",
    "for i in range(0,100):\n",
    "    ind_rating.append(rating[i].get_text().replace('\\n',\"\"))\n",
    "ind_rating"
   ]
  },
  {
   "cell_type": "code",
   "execution_count": null,
   "id": "edfb28e1",
   "metadata": {},
   "outputs": [],
   "source": [
    "df= pd.DataFrame()\n",
    "df['movies'] = ind_movies\n",
    "df['ratings'] = ind_rating\n",
    "df"
   ]
  },
  {
   "cell_type": "code",
   "execution_count": null,
   "id": "a89a163f",
   "metadata": {},
   "outputs": [],
   "source": [
    "answer no 4\n",
    "url = \"https://www.icc-cricket.com/rankings/mens/team-rankings/odi\"\n",
    "url"
   ]
  },
  {
   "cell_type": "code",
   "execution_count": null,
   "id": "dd3149c5",
   "metadata": {},
   "outputs": [],
   "source": [
    "r = requests.get(url)\n",
    "htmlcontent = r.content\n",
    "print(htmlcontent)"
   ]
  },
  {
   "cell_type": "code",
   "execution_count": null,
   "id": "2bf45c3c",
   "metadata": {},
   "outputs": [],
   "source": [
    "soup = BeautifulSoup(htmlcontent,'html.parser')\n",
    "print(soup.prettify)"
   ]
  },
  {
   "cell_type": "code",
   "execution_count": null,
   "id": "de561eff",
   "metadata": {},
   "outputs": [],
   "source": [
    "print(soup.find('td',class_ =\"rankings-block__banner--matches\").get_text())"
   ]
  },
  {
   "cell_type": "code",
   "execution_count": null,
   "id": "42ca95b8",
   "metadata": {},
   "outputs": [],
   "source": [
    "print(soup.find('td',class_= \"rankings-block__banner--points\").get_text())"
   ]
  },
  {
   "cell_type": "code",
   "execution_count": null,
   "id": "cf32837a",
   "metadata": {},
   "outputs": [],
   "source": [
    "print(soup.find('td',class_=\"rankings-block__banner--rating u-text-right\").get_text().replace('\\n',\" \"))"
   ]
  },
  {
   "cell_type": "code",
   "execution_count": null,
   "id": "a1572353",
   "metadata": {},
   "outputs": [],
   "source": [
    "rating = soup.find_all('td',class_= \"table-body__cell u-text-right rating\")\n",
    "rating"
   ]
  },
  {
   "cell_type": "code",
   "execution_count": null,
   "id": "f9975ee9",
   "metadata": {},
   "outputs": [],
   "source": [
    "ratings = []\n",
    "for i in range(0,9):\n",
    "    ratings.append(rating[i].get_text().replace('\\n',\"\"))\n",
    "ratings"
   ]
  },
  {
   "cell_type": "code",
   "execution_count": null,
   "id": "3981c427",
   "metadata": {},
   "outputs": [],
   "source": [
    "ratings.insert(0,121)\n",
    "ratings"
   ]
  },
  {
   "cell_type": "code",
   "execution_count": null,
   "id": "db5fb0f9",
   "metadata": {},
   "outputs": [],
   "source": [
    "teams = soup.find_all('span',class_=\"u-hide-phablet\")\n",
    "teams"
   ]
  },
  {
   "cell_type": "code",
   "execution_count": null,
   "id": "86442cec",
   "metadata": {},
   "outputs": [],
   "source": [
    "team = []\n",
    "for i in range(0,10):\n",
    "    team.append(teams[i].get_text().replace('\\n',\" \"))\n",
    "team"
   ]
  },
  {
   "cell_type": "code",
   "execution_count": null,
   "id": "03877470",
   "metadata": {},
   "outputs": [],
   "source": [
    "add = soup.find_all('td',class_ = \"table-body__cell u-center-text\")\n",
    "add"
   ]
  },
  {
   "cell_type": "code",
   "execution_count": null,
   "id": "9428793e",
   "metadata": {},
   "outputs": [],
   "source": [
    "matches= []\n",
    "for match in add:\n",
    "    match = match.get_text().replace('\\n',\" \")\n",
    "    matches.append(match)\n",
    "matches"
   ]
  },
  {
   "cell_type": "code",
   "execution_count": null,
   "id": "b6ea3ee9",
   "metadata": {},
   "outputs": [],
   "source": [
    "odi_match=[]\n",
    "for i in range(0,18,2):\n",
    "    odi_match.append(matches[i])\n",
    "odi_match"
   ]
  },
  {
   "cell_type": "code",
   "execution_count": null,
   "id": "56b4976b",
   "metadata": {},
   "outputs": [],
   "source": [
    "odi_match.insert(0,17)\n",
    "odi_match"
   ]
  },
  {
   "cell_type": "code",
   "execution_count": null,
   "id": "5a4d82dd",
   "metadata": {},
   "outputs": [],
   "source": [
    "odi_points = []\n",
    "for i in range(1,18,2):\n",
    "    odi_points.append(matches[i])\n",
    "odi_points"
   ]
  },
  {
   "cell_type": "code",
   "execution_count": null,
   "id": "7534a5dd",
   "metadata": {},
   "outputs": [],
   "source": [
    "odi_points.insert(0,2054)\n",
    "odi_points"
   ]
  },
  {
   "cell_type": "code",
   "execution_count": null,
   "id": "4aa29741",
   "metadata": {},
   "outputs": [],
   "source": [
    "data = pd.DataFrame()\n",
    "data['team'] =team\n",
    "data['matches'] =odi_match\n",
    "data['points'] = odi_points\n",
    "data['ratings'] =ratings\n",
    "data"
   ]
  },
  {
   "cell_type": "code",
   "execution_count": null,
   "id": "0db36e6e",
   "metadata": {},
   "outputs": [],
   "source": [
    "answer 5\n",
    "url = \"https://www.icc-cricket.com/rankings/womens/team-rankings/odi\"\n",
    "url"
   ]
  },
  {
   "cell_type": "code",
   "execution_count": null,
   "id": "d077e1ec",
   "metadata": {},
   "outputs": [],
   "source": [
    "page = requests.get(url)\n",
    "htmlcontent = page.content\n",
    "print(htmlcontent)"
   ]
  },
  {
   "cell_type": "code",
   "execution_count": null,
   "id": "7fbcd552",
   "metadata": {},
   "outputs": [],
   "source": [
    "soup = BeautifulSoup(htmlcontent, \"html.parser\")\n",
    "print(soup.prettify)"
   ]
  },
  {
   "cell_type": "code",
   "execution_count": null,
   "id": "953c29a0",
   "metadata": {},
   "outputs": [],
   "source": [
    "team = soup.find_all('span',class_=\"u-hide-phablet\")\n",
    "teams = []\n",
    "for i in range(0,10):\n",
    "    teams.append(team[i].get_text().replace('\\n',\" \"))\n",
    "teams\n"
   ]
  },
  {
   "cell_type": "code",
   "execution_count": null,
   "id": "395f0b21",
   "metadata": {},
   "outputs": [],
   "source": [
    "print(soup.find('td',class_= \"rankings-block__banner--matches\").get_text())"
   ]
  },
  {
   "cell_type": "code",
   "execution_count": null,
   "id": "01b90cfa",
   "metadata": {},
   "outputs": [],
   "source": [
    "print(soup.find('td',class_=\"rankings-block__banner--points\").get_text())"
   ]
  },
  {
   "cell_type": "code",
   "execution_count": null,
   "id": "0421f23d",
   "metadata": {},
   "outputs": [],
   "source": [
    "print(soup.find('td',class_=\"rankings-block__banner--rating u-text-right\").get_text().replace('\\n',\" \"))"
   ]
  },
  {
   "cell_type": "code",
   "execution_count": null,
   "id": "ce6120af",
   "metadata": {},
   "outputs": [],
   "source": [
    "a = soup.find_all('td',class_=\"table-body__cell u-center-text\")\n",
    "a"
   ]
  },
  {
   "cell_type": "code",
   "execution_count": null,
   "id": "461dd327",
   "metadata": {},
   "outputs": [],
   "source": [
    "matches = []\n",
    "for i in range(0,18,2):\n",
    "    matches.append(a[i].get_text().replace('\\n',\" \"))\n",
    "matches"
   ]
  },
  {
   "cell_type": "code",
   "execution_count": null,
   "id": "4f999036",
   "metadata": {},
   "outputs": [],
   "source": [
    "matches.insert(0,'21')\n",
    "matches"
   ]
  },
  {
   "cell_type": "code",
   "execution_count": null,
   "id": "065724a6",
   "metadata": {},
   "outputs": [],
   "source": [
    "points = []\n",
    "for i in range(1,18,2):\n",
    "    points.append(a[i].get_text())\n",
    "points"
   ]
  },
  {
   "cell_type": "code",
   "execution_count": null,
   "id": "c3d24df9",
   "metadata": {},
   "outputs": [],
   "source": [
    "points.insert(0,'3,379')\n",
    "points"
   ]
  },
  {
   "cell_type": "code",
   "execution_count": null,
   "id": "31ab1b19",
   "metadata": {},
   "outputs": [],
   "source": [
    "rating = soup.find_all('td',class_=\"table-body__cell u-text-right rating\")\n",
    "ratings = []\n",
    "for i in range (0,9):\n",
    "    ratings.append(rating[i].get_text())\n",
    "ratings"
   ]
  },
  {
   "cell_type": "code",
   "execution_count": null,
   "id": "0941ad8e",
   "metadata": {},
   "outputs": [],
   "source": [
    "ratings.insert(0,'161')\n",
    "ratings"
   ]
  },
  {
   "cell_type": "code",
   "execution_count": null,
   "id": "9484626d",
   "metadata": {},
   "outputs": [],
   "source": [
    "url = \"https://www.icc-cricket.com/rankings/womens/player-rankings/odi/batting\"\n",
    "r = requests.get(url)\n",
    "htmlcontent = r.content\n",
    "soup = BeautifulSoup(htmlcontent,\"html.parser\")\n",
    "print(soup.prettify)"
   ]
  },
  {
   "cell_type": "code",
   "execution_count": null,
   "id": "1f340ce2",
   "metadata": {},
   "outputs": [],
   "source": [
    "print(soup.find('div',class_=\"rankings-block__banner--name-large\").get_text())"
   ]
  },
  {
   "cell_type": "code",
   "execution_count": null,
   "id": "cc5eacd3",
   "metadata": {},
   "outputs": [],
   "source": [
    "print(soup.find('div',class_=\"rankings-block__banner--nationality\").get_text().replace('\\n',\"\"))\n"
   ]
  },
  {
   "cell_type": "code",
   "execution_count": null,
   "id": "5f0e25ba",
   "metadata": {},
   "outputs": [],
   "source": [
    "print(soup.find('div',class_=\"rankings-block__banner--rating\").get_text().replace('\\n',\"\"))"
   ]
  },
  {
   "cell_type": "code",
   "execution_count": null,
   "id": "865849b4",
   "metadata": {},
   "outputs": [],
   "source": [
    "name = soup.find_all('td',class_=\"table-body__cell rankings-table__name name\")\n",
    "player_name = []\n",
    "for i in range(0,9):\n",
    "    player_name.append(name[i].get_text().replace('\\n',\"\"))\n",
    "player_name"
   ]
  },
  {
   "cell_type": "code",
   "execution_count": null,
   "id": "7017c4dd",
   "metadata": {},
   "outputs": [],
   "source": [
    "player_name.insert(0,'Lizelle Lee')\n",
    "player_name"
   ]
  },
  {
   "cell_type": "code",
   "execution_count": null,
   "id": "2535c0b6",
   "metadata": {},
   "outputs": [],
   "source": [
    "c = soup.find_all('span', class_=\"table-body__logo-text\")\n",
    "nationality = []\n",
    "for i in range(0,9):\n",
    "    nationality.append(c[i].get_text())\n",
    "nationality"
   ]
  },
  {
   "cell_type": "code",
   "execution_count": null,
   "id": "d051bbbd",
   "metadata": {},
   "outputs": [],
   "source": [
    "nationality.insert(0,'SA')\n",
    "nationality"
   ]
  },
  {
   "cell_type": "code",
   "execution_count": null,
   "id": "8ed80e60",
   "metadata": {},
   "outputs": [],
   "source": [
    "r = soup.find_all('td',class_=\"table-body__cell rating\")\n",
    "women_rankings = []\n",
    "for i in range(0,9):\n",
    "    women_rankings.append(r[i].get_text())\n",
    "women_rankings"
   ]
  },
  {
   "cell_type": "code",
   "execution_count": null,
   "id": "a94cbd31",
   "metadata": {},
   "outputs": [],
   "source": [
    "women_rankings.insert(0,'761')\n",
    "women_rankings"
   ]
  },
  {
   "cell_type": "code",
   "execution_count": null,
   "id": "37710407",
   "metadata": {},
   "outputs": [],
   "source": [
    "url = \"https://www.icc-cricket.com/rankings/womens/player-rankings/odi/all-rounder\"\n",
    "p = requests.get(url)\n",
    "htmlcontent = p.content\n",
    "soup = BeautifulSoup(htmlcontent,\"html.parser\")\n",
    "print(soup.prettify)"
   ]
  },
  {
   "cell_type": "code",
   "execution_count": null,
   "id": "f7db43ec",
   "metadata": {},
   "outputs": [],
   "source": [
    "print(soup.find('div',class_= \"rankings-block__banner--name-large\").get_text())"
   ]
  },
  {
   "cell_type": "code",
   "execution_count": null,
   "id": "51e5ecc5",
   "metadata": {},
   "outputs": [],
   "source": [
    "print(soup.find('div',class_=\"rankings-block__banner--nationality\").get_text().replace('\\n',\"\"))"
   ]
  },
  {
   "cell_type": "code",
   "execution_count": null,
   "id": "2f57cd48",
   "metadata": {},
   "outputs": [],
   "source": [
    "print(soup.find('div',class_=\"rankings-block__banner--rating\").get_text())"
   ]
  },
  {
   "cell_type": "code",
   "execution_count": null,
   "id": "cc1fcf4a",
   "metadata": {},
   "outputs": [],
   "source": [
    "n = soup.find_all('td',class_=\"table-body__cell rankings-table__name name\")\n",
    "name = []\n",
    "for i in range(0,9):\n",
    "    name.append(n[i].get_text().replace('\\n',\"\"))\n",
    "name"
   ]
  },
  {
   "cell_type": "code",
   "execution_count": null,
   "id": "7f3e3538",
   "metadata": {},
   "outputs": [],
   "source": [
    "name.insert(0,'Marizanne Kapp')\n",
    "name"
   ]
  },
  {
   "cell_type": "code",
   "execution_count": null,
   "id": "f6d4c401",
   "metadata": {},
   "outputs": [],
   "source": [
    "c = soup.find_all('span',class_=\"table-body__logo-text\")\n",
    "country = []\n",
    "for i in range(0,9):\n",
    "    country.append(c[i].get_text())\n",
    "country"
   ]
  },
  {
   "cell_type": "code",
   "execution_count": null,
   "id": "40ed1c89",
   "metadata": {},
   "outputs": [],
   "source": [
    "country.insert(0,'SA')\n",
    "country"
   ]
  },
  {
   "cell_type": "code",
   "execution_count": null,
   "id": "07aa5b0a",
   "metadata": {},
   "outputs": [],
   "source": [
    "r  =soup.find_all('td',class_=\"table-body__cell rating\")\n",
    "rating = []\n",
    "for i in range(0,9):\n",
    "    rating.append(r[i].get_text())\n",
    "rating"
   ]
  },
  {
   "cell_type": "code",
   "execution_count": null,
   "id": "9387bf3b",
   "metadata": {},
   "outputs": [],
   "source": [
    "rating.insert(0,'384')\n",
    "rating"
   ]
  },
  {
   "cell_type": "code",
   "execution_count": null,
   "id": "00266a7e",
   "metadata": {},
   "outputs": [],
   "source": [
    "url = \"https://www.nobroker.in/property/sale/bangalore/Electronic City?type=BHK4&searchParam=W3sibGF0IjoxMi44NDUyMTQ1LCJsb24iOjc3LjY2MDE2OTUsInBsYWNlSWQiOiJDaElKdy1GUWQ0cHNyanNSSGZkYXpnXzhYRW8iLCJwbGFjZU5hbWUiOiJFbGVjdHJvbmljIENpdHkifV0=&propertyAge=0&radius=2.0\"\n",
    "url"
   ]
  },
  {
   "cell_type": "code",
   "execution_count": null,
   "id": "4b2adb21",
   "metadata": {},
   "outputs": [],
   "source": [
    "page = requests.get(url)\n",
    "htmlcontent = page.content \n",
    "soup = BeautifulSoup(htmlcontent, \"html.parser\")\n",
    "print(soup.prettify)"
   ]
  },
  {
   "cell_type": "code",
   "execution_count": null,
   "id": "f19bcdf9",
   "metadata": {},
   "outputs": [],
   "source": [
    "title = []\n",
    "for i in soup.find_all('h2',class_=\"heading-6 font-semi-bold nb__1AShY\"):\n",
    "    title.append((i).get_text())\n",
    "title"
   ]
  },
  {
   "cell_type": "code",
   "execution_count": null,
   "id": "c11dfa91",
   "metadata": {},
   "outputs": [],
   "source": [
    "area = []\n",
    "for i in soup.find_all('div',class_=\"nb__3oNyC\"):\n",
    "    area.append((i).get_text())\n",
    "area"
   ]
  },
  {
   "cell_type": "code",
   "execution_count": null,
   "id": "b9a1d605",
   "metadata": {},
   "outputs": [],
   "source": [
    "emi = []\n",
    "for i in soup.find_all('div',class_=\"font-semi-bold heading-6\"):\n",
    "    emi.append((i).get_text())\n",
    "emi"
   ]
  },
  {
   "cell_type": "code",
   "execution_count": null,
   "id": "3e46746a",
   "metadata": {},
   "outputs": [],
   "source": [
    "Emi = []\n",
    "for i in range(1,31,3):\n",
    "    Emi.append((emi)[i])\n",
    "Emi"
   ]
  },
  {
   "cell_type": "code",
   "execution_count": null,
   "id": "f6e77ade",
   "metadata": {},
   "outputs": [],
   "source": [
    "price = []\n",
    "for i in range(2,31,3):\n",
    "    price.append((emi)[i])\n",
    "price"
   ]
  },
  {
   "cell_type": "code",
   "execution_count": null,
   "id": "5349a00f",
   "metadata": {},
   "outputs": [],
   "source": [
    "location = []\n",
    "for i in soup.find_all('div',class_=\"nb__2CMjv\"):\n",
    "    location.append((i).get_text())\n",
    "location"
   ]
  },
  {
   "cell_type": "code",
   "execution_count": null,
   "id": "4db4fee5",
   "metadata": {},
   "outputs": [],
   "source": [
    "url = \"https://www.dineout.co.in/delhi-restaurants/buffet-special\"\n",
    "url"
   ]
  },
  {
   "cell_type": "code",
   "execution_count": null,
   "id": "9f6b2ae1",
   "metadata": {},
   "outputs": [],
   "source": [
    "r = requests.get(url)\n",
    "print(r)"
   ]
  },
  {
   "cell_type": "code",
   "execution_count": null,
   "id": "f9021b5c",
   "metadata": {},
   "outputs": [],
   "source": [
    "htmlcontent= r.content\n",
    "soup = BeautifulSoup(htmlcontent,\"html.parser\")\n",
    "print(soup.prettify)"
   ]
  },
  {
   "cell_type": "code",
   "execution_count": null,
   "id": "92059c29",
   "metadata": {},
   "outputs": [],
   "source": [
    "print(soup.find('div',class_=\"restnt-info cursor\").get_text())"
   ]
  },
  {
   "cell_type": "code",
   "execution_count": null,
   "id": "44f391cd",
   "metadata": {},
   "outputs": [],
   "source": [
    "print(soup.find('div',class_=\"restnt-cost\").get_text().split('|')[0].replace('₹',''))"
   ]
  },
  {
   "cell_type": "code",
   "execution_count": null,
   "id": "403aa343",
   "metadata": {},
   "outputs": [],
   "source": [
    "title =[] \n",
    "for i in soup.find_all('div',class_=\"restnt-info cursor\"):\n",
    "    title.append((i).get_text())\n",
    "title"
   ]
  },
  {
   "cell_type": "code",
   "execution_count": null,
   "id": "5ca02187",
   "metadata": {},
   "outputs": [],
   "source": [
    "price = []\n",
    "for i in soup.find_all('span',class_=\"double-line-ellipsis\"):\n",
    "    price.append((i).get_text().split('|')[0])\n",
    "price"
   ]
  },
  {
   "cell_type": "code",
   "execution_count": null,
   "id": "94865784",
   "metadata": {},
   "outputs": [],
   "source": [
    "img = []\n",
    "for i in soup.find_all('img',class_=\"no-img\"):\n",
    "    img.append(i)\n",
    "img"
   ]
  },
  {
   "cell_type": "code",
   "execution_count": null,
   "id": "85dac370",
   "metadata": {},
   "outputs": [],
   "source": [
    "rating = []\n",
    "for i in soup.find_all('div',class_= \"restnt-rating rating-4\"):\n",
    "    rating.append((i).get_text())\n",
    "rating"
   ]
  },
  {
   "cell_type": "code",
   "execution_count": null,
   "id": "a4a84007",
   "metadata": {},
   "outputs": [],
   "source": [
    "print(soup.find('div',class_=\"restnt-rating rating-3\").get_text())"
   ]
  },
  {
   "cell_type": "code",
   "execution_count": null,
   "id": "8a8d3d77",
   "metadata": {},
   "outputs": [],
   "source": [
    "rating.insert(0,'3.4')\n",
    "rating"
   ]
  },
  {
   "cell_type": "code",
   "execution_count": null,
   "id": "22e98216",
   "metadata": {},
   "outputs": [],
   "source": [
    "location = []\n",
    "for i in soup.find_all('div',class_=\"restnt-loc ellipsis\"):\n",
    "    location.append((i).get_text())\n",
    "location"
   ]
  },
  {
   "cell_type": "code",
   "execution_count": null,
   "id": "8ce6e455",
   "metadata": {},
   "outputs": [],
   "source": [
    "url = \"https://en.tutiempo.net/delhi.html?data=last-24-hours\"\n",
    "url"
   ]
  },
  {
   "cell_type": "code",
   "execution_count": null,
   "id": "ba24cad4",
   "metadata": {},
   "outputs": [],
   "source": [
    "page = requests.get(url)\n",
    "htmlcontent = page.content \n",
    "soup = BeautifulSoup(htmlcontent, \"html.parser\")\n",
    "print(soup.prettify)"
   ]
  },
  {
   "cell_type": "code",
   "execution_count": null,
   "id": "b54f3e89",
   "metadata": {},
   "outputs": [],
   "source": [
    "Hour = []\n",
    "for i in soup.find_all('td',class_='t Temp')[0:24]:\n",
    "    if i.previous_sibling.previous_sibling is not None:\n",
    "        Hour.append(i.previous_sibling.previous_sibling.text)\n",
    "    else:\n",
    "        Hour.append(' ')\n",
    "        "
   ]
  },
  {
   "cell_type": "code",
   "execution_count": null,
   "id": "8d3e619b",
   "metadata": {},
   "outputs": [],
   "source": [
    "Hour"
   ]
  },
  {
   "cell_type": "code",
   "execution_count": null,
   "id": "4c5da3db",
   "metadata": {},
   "outputs": [],
   "source": [
    "tem = []\n",
    "for i in soup.find_all('td',class_=\"t Temp\"):\n",
    "    tem.append((i).get_text())\n",
    "tem"
   ]
  },
  {
   "cell_type": "code",
   "execution_count": null,
   "id": "eed229b7",
   "metadata": {},
   "outputs": [],
   "source": [
    "Wind = soup.find_all('td',class_=\"wind\")\n",
    "Wind"
   ]
  },
  {
   "cell_type": "code",
   "execution_count": null,
   "id": "392d7ee0",
   "metadata": {},
   "outputs": [],
   "source": [
    "wind = []\n",
    "for a in Wind:\n",
    "    a = a.get_text()\n",
    "    wind.append(a)\n",
    "wind"
   ]
  },
  {
   "cell_type": "code",
   "execution_count": null,
   "id": "74c3871a",
   "metadata": {},
   "outputs": [],
   "source": [
    "humidity = soup.find_all('td',class_=\"hr\")\n",
    "humidity"
   ]
  },
  {
   "cell_type": "code",
   "execution_count": null,
   "id": "4a1a0b20",
   "metadata": {},
   "outputs": [],
   "source": [
    "humi = []\n",
    "for b in humidity:\n",
    "    b = b.get_text()\n",
    "    humi.append(b)\n",
    "humi"
   ]
  },
  {
   "cell_type": "code",
   "execution_count": null,
   "id": "0431d426",
   "metadata": {},
   "outputs": [],
   "source": [
    "pressure = soup.find_all('td',class_=\"prob\")\n",
    "pressure"
   ]
  },
  {
   "cell_type": "code",
   "execution_count": null,
   "id": "48e31366",
   "metadata": {},
   "outputs": [],
   "source": [
    "Pressure = []\n",
    "for p in pressure:\n",
    "    p = p.get_text()\n",
    "    Pressure.append(p)\n",
    "Pressure"
   ]
  },
  {
   "cell_type": "code",
   "execution_count": null,
   "id": "70481457",
   "metadata": {},
   "outputs": [],
   "source": [
    "weather_condition = soup.find_all('span',class_=\"thhip ico i0530 u303\")\n",
    "weather_condition"
   ]
  },
  {
   "cell_type": "code",
   "execution_count": null,
   "id": "4cdbe84d",
   "metadata": {},
   "outputs": [],
   "source": [
    "weather = []\n",
    "for w in weather_condition:\n",
    "    w = w.get_text()\n",
    "    weather.append(w)\n",
    "weather"
   ]
  },
  {
   "cell_type": "code",
   "execution_count": null,
   "id": "955c0f67",
   "metadata": {},
   "outputs": [],
   "source": [
    "url = \"https://www.puredestinations.co.uk/top-10-famous-monuments-to-visit-in-india/\"\n",
    "url"
   ]
  },
  {
   "cell_type": "code",
   "execution_count": null,
   "id": "420d75fb",
   "metadata": {},
   "outputs": [],
   "source": [
    "page = requests.get(url)\n",
    "htmlcontent = page.content \n",
    "soup = BeautifulSoup(htmlcontent, \"html.parser\")\n",
    "print(soup.prettify)"
   ]
  },
  {
   "cell_type": "code",
   "execution_count": null,
   "id": "73936826",
   "metadata": {},
   "outputs": [],
   "source": [
    "name = soup.find_all('div',class_=\"blog--single__content column--3-4 u-spacing-third\")\n",
    "name"
   ]
  },
  {
   "cell_type": "code",
   "execution_count": null,
   "id": "0431a5d2",
   "metadata": {},
   "outputs": [],
   "source": [
    "data=[]\n",
    "for i in name:\n",
    "    for j in i.find_all('p'):\n",
    "        t = j.text.replace('\\n', '') \n",
    "        data.append(t)\n",
    "data"
   ]
  },
  {
   "cell_type": "code",
   "execution_count": null,
   "id": "1d12d33d",
   "metadata": {},
   "outputs": [],
   "source": [
    "Mname = []\n",
    "for i in range(1,30,3):\n",
    "    Mname.append(data[i])\n",
    "Mname"
   ]
  },
  {
   "cell_type": "code",
   "execution_count": null,
   "id": "483dd881",
   "metadata": {},
   "outputs": [],
   "source": [
    "discription = []\n",
    "for i in range(2,30,3):\n",
    "    discription.append(data[i])\n",
    "discription"
   ]
  },
  {
   "cell_type": "code",
   "execution_count": null,
   "id": "ff1d134b",
   "metadata": {},
   "outputs": [],
   "source": [
    "image = [] \n",
    "for i in soup.find_all('img'):\n",
    "    image.append(i['src'])\n",
    "image"
   ]
  },
  {
   "cell_type": "code",
   "execution_count": null,
   "id": "c59cadbf",
   "metadata": {},
   "outputs": [],
   "source": []
  }
 ],
 "metadata": {
  "kernelspec": {
   "display_name": "Python 3",
   "language": "python",
   "name": "python3"
  },
  "language_info": {
   "codemirror_mode": {
    "name": "ipython",
    "version": 3
   },
   "file_extension": ".py",
   "mimetype": "text/x-python",
   "name": "python",
   "nbconvert_exporter": "python",
   "pygments_lexer": "ipython3",
   "version": "3.8.8"
  }
 },
 "nbformat": 4,
 "nbformat_minor": 5
}

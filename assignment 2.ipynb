{
 "cells": [
  {
   "cell_type": "code",
   "execution_count": 1,
   "id": "86ef24b3",
   "metadata": {},
   "outputs": [],
   "source": [
    "import selenium\n",
    "import pandas as pd \n",
    "from selenium import webdriver\n",
    "from selenium.webdriver.chrome.service import Service\n",
    "from selenium.webdriver.common.keys import Keys\n",
    "from selenium.webdriver.common.by import By"
   ]
  },
  {
   "cell_type": "code",
   "execution_count": null,
   "id": "f0ae59a9",
   "metadata": {},
   "outputs": [],
   "source": [
    "s = Service(r\"C:\\Users\\Munish\\Downloads\\chromedriver_win32/chromedriver.exe\")"
   ]
  },
  {
   "cell_type": "code",
   "execution_count": null,
   "id": "f175ccf8",
   "metadata": {},
   "outputs": [],
   "source": [
    "driver = webdriver.Chrome(service=s)"
   ]
  },
  {
   "cell_type": "code",
   "execution_count": null,
   "id": "862adf75",
   "metadata": {},
   "outputs": [],
   "source": [
    "driver.get(\"https://www.naukri.com/\")"
   ]
  },
  {
   "cell_type": "code",
   "execution_count": null,
   "id": "7fed287d",
   "metadata": {},
   "outputs": [],
   "source": [
    "search_job = driver.find_element(By.ID,\"qsb-keyword-sugg\").send_keys(\"Data Analyst\")"
   ]
  },
  {
   "cell_type": "code",
   "execution_count": null,
   "id": "e9abf4a7",
   "metadata": {},
   "outputs": [],
   "source": [
    "search_loc = driver.find_element(By.ID,\"qsb-location-sugg\")\n",
    "search_loc.send_keys(\"Bangalore\")"
   ]
  },
  {
   "cell_type": "code",
   "execution_count": null,
   "id": "0fdd7836",
   "metadata": {},
   "outputs": [],
   "source": [
    "search_btn = driver.find_element(By.XPATH,\"//div[@class='search-btn']/button\")\n",
    "search_btn.click()"
   ]
  },
  {
   "cell_type": "code",
   "execution_count": null,
   "id": "ab956c3c",
   "metadata": {},
   "outputs": [],
   "source": [
    "jobs_title = []\n",
    "job_location=[]\n",
    "job_experience=[]\n",
    "company_names= []"
   ]
  },
  {
   "cell_type": "code",
   "execution_count": null,
   "id": "44399820",
   "metadata": {},
   "outputs": [],
   "source": [
    "title= driver.find_elements(By.XPATH,\"//a[@class='title fw500 ellipsis']\")\n",
    "title[0:10]"
   ]
  },
  {
   "cell_type": "code",
   "execution_count": null,
   "id": "efb986d5",
   "metadata": {},
   "outputs": [],
   "source": [
    "for i in title:\n",
    "    titles = i.text\n",
    "    jobs_title.append(titles)\n",
    "jobs_title[0:10]"
   ]
  },
  {
   "cell_type": "code",
   "execution_count": null,
   "id": "1fbf113c",
   "metadata": {},
   "outputs": [],
   "source": [
    "c_name = driver.find_elements(By.XPATH,\"//a[@class='subTitle ellipsis fleft']\")\n",
    "c_name[0:10]"
   ]
  },
  {
   "cell_type": "code",
   "execution_count": null,
   "id": "89dfd00c",
   "metadata": {},
   "outputs": [],
   "source": [
    "for i in c_name:\n",
    "    co_name=i.text\n",
    "    company_names.append(co_name)\n",
    "company_names[0:10]"
   ]
  },
  {
   "cell_type": "code",
   "execution_count": null,
   "id": "2f3f1e47",
   "metadata": {},
   "outputs": [],
   "source": [
    "experience = driver.find_elements_by_xpath(\"//li[@class='fleft grey-text br2 placeHolderLi experience']\")\n",
    "experience[0:10]"
   ]
  },
  {
   "cell_type": "code",
   "execution_count": null,
   "id": "2041b645",
   "metadata": {},
   "outputs": [],
   "source": [
    "for i in experience:\n",
    "    exp = i.text\n",
    "    job_experience.append(exp)\n",
    "job_experience[0:10]"
   ]
  },
  {
   "cell_type": "code",
   "execution_count": null,
   "id": "775fe979",
   "metadata": {},
   "outputs": [],
   "source": [
    "location = driver.find_elements(By.XPATH,\"//li[@class='fleft grey-text br2 placeHolderLi location']\")\n",
    "location[0:10]"
   ]
  },
  {
   "cell_type": "code",
   "execution_count": null,
   "id": "5bfc53a8",
   "metadata": {},
   "outputs": [],
   "source": [
    "for i in location:\n",
    "    locations = i.text\n",
    "    job_location.append(locations)\n",
    "job_location[0:10]"
   ]
  },
  {
   "cell_type": "code",
   "execution_count": null,
   "id": "ea0d71fd",
   "metadata": {},
   "outputs": [],
   "source": [
    "s = Service(r\"C:\\Users\\Munish\\Downloads\\chromedriver_win32/chromedriver.exe\")"
   ]
  },
  {
   "cell_type": "code",
   "execution_count": null,
   "id": "838a6995",
   "metadata": {},
   "outputs": [],
   "source": [
    "driver = webdriver.Chrome(service=s)"
   ]
  },
  {
   "cell_type": "code",
   "execution_count": null,
   "id": "00d0fb30",
   "metadata": {},
   "outputs": [],
   "source": [
    "driver.get(\"https://www.naukri.com/\")"
   ]
  },
  {
   "cell_type": "code",
   "execution_count": null,
   "id": "c92f456c",
   "metadata": {},
   "outputs": [],
   "source": [
    "search_job = driver.find_element(By.ID,\"qsb-keyword-sugg\")\n",
    "search_job.send_keys(\"Data Scientist\")"
   ]
  },
  {
   "cell_type": "code",
   "execution_count": null,
   "id": "55464c30",
   "metadata": {},
   "outputs": [],
   "source": [
    "search_loc = driver.find_element(By.ID,\"qsb-location-sugg\")\n",
    "search_loc.send_keys(\"Bangalore\")"
   ]
  },
  {
   "cell_type": "code",
   "execution_count": null,
   "id": "be4fd659",
   "metadata": {},
   "outputs": [],
   "source": [
    "search_btn = driver.find_element(By.XPATH,\"//div[@class='search-btn']/button\")\n",
    "search_btn.click()"
   ]
  },
  {
   "cell_type": "code",
   "execution_count": null,
   "id": "9c4e6f1e",
   "metadata": {},
   "outputs": [],
   "source": [
    "job_title=[]\n",
    "company_name=[]\n",
    "location_list=[]"
   ]
  },
  {
   "cell_type": "code",
   "execution_count": null,
   "id": "4689b669",
   "metadata": {},
   "outputs": [],
   "source": [
    "title_tag = driver.find_elements(By.XPATH,\"//a[@class='title fw500 ellipsis']\")\n",
    "title_tag[0:10]"
   ]
  },
  {
   "cell_type": "code",
   "execution_count": null,
   "id": "f6a6b38b",
   "metadata": {},
   "outputs": [],
   "source": [
    "for i in title_tag:\n",
    "    title = i.text\n",
    "    job_title.append(title)\n",
    "job_title[0:10]"
   ]
  },
  {
   "cell_type": "code",
   "execution_count": null,
   "id": "9b0fd0eb",
   "metadata": {},
   "outputs": [],
   "source": [
    "names = driver.find_elements(By.XPATH,\"//a[@class='subTitle ellipsis fleft']\")\n",
    "names[0:10]"
   ]
  },
  {
   "cell_type": "code",
   "execution_count": null,
   "id": "79977287",
   "metadata": {},
   "outputs": [],
   "source": [
    "for i in names:\n",
    "    title = i.text\n",
    "    company_name.append(title)\n",
    "company_name[0:10]"
   ]
  },
  {
   "cell_type": "code",
   "execution_count": null,
   "id": "e0af01e1",
   "metadata": {},
   "outputs": [],
   "source": [
    "location = driver.find_elements(By.XPATH,\"//li[@class='fleft grey-text br2 placeHolderLi location']\")\n",
    "location[0:10]"
   ]
  },
  {
   "cell_type": "code",
   "execution_count": null,
   "id": "a21372da",
   "metadata": {},
   "outputs": [],
   "source": [
    "for i in location:\n",
    "    locations = i.text\n",
    "    location_list.append(locations)\n",
    "location_list[0:10]"
   ]
  },
  {
   "cell_type": "code",
   "execution_count": null,
   "id": "bdf16bce",
   "metadata": {},
   "outputs": [],
   "source": [
    "df = pd.DataFrame()\n",
    "df['title'] = job_title\n",
    "df['name'] = company_name\n",
    "df['location'] = location_list\n",
    "df.head(10)"
   ]
  },
  {
   "cell_type": "code",
   "execution_count": null,
   "id": "06ccddfa",
   "metadata": {},
   "outputs": [],
   "source": [
    "s = Service(r\"C:\\Users\\Munish\\Downloads\\chromedriver_win32/chromedriver.exe\")"
   ]
  },
  {
   "cell_type": "code",
   "execution_count": null,
   "id": "6154e2a9",
   "metadata": {},
   "outputs": [],
   "source": [
    "driver = webdriver.Chrome(service=s)"
   ]
  },
  {
   "cell_type": "code",
   "execution_count": null,
   "id": "55d0b44f",
   "metadata": {},
   "outputs": [],
   "source": [
    "driver.get(\"https://www.naukri.com/\")"
   ]
  },
  {
   "cell_type": "code",
   "execution_count": null,
   "id": "42fd65a9",
   "metadata": {},
   "outputs": [],
   "source": [
    "search_job = driver.find_element(By.ID,\"qsb-keyword-sugg\").send_keys(\"Data Scientist\")"
   ]
  },
  {
   "cell_type": "code",
   "execution_count": null,
   "id": "6e3ee162",
   "metadata": {},
   "outputs": [],
   "source": [
    "search_btn = driver.find_element(By.XPATH,\"//div[@class='search-btn']/button\")\n",
    "search_btn.click()"
   ]
  },
  {
   "cell_type": "code",
   "execution_count": null,
   "id": "0897e112",
   "metadata": {},
   "outputs": [],
   "source": [
    "select_location = driver.find_element_by_xpath(\"/html/body/div[1]/div[3]/div[2]/section[1]/div[2]/div[3]/div[2]/div[3]/label/i\")\n",
    "select_location.click()"
   ]
  },
  {
   "cell_type": "code",
   "execution_count": null,
   "id": "77e89832",
   "metadata": {},
   "outputs": [],
   "source": [
    "select_salary = driver.find_element_by_xpath(\"/html/body/div[1]/div[3]/div[2]/section[1]/div[2]/div[4]/div[2]/div[2]/label/p/span[1]\")\n",
    "select_salary.click()"
   ]
  },
  {
   "cell_type": "code",
   "execution_count": null,
   "id": "02d3a79f",
   "metadata": {},
   "outputs": [],
   "source": [
    "job_title=[]\n",
    "job_location=[]\n",
    "job_experience = []\n",
    "company_name=[]"
   ]
  },
  {
   "cell_type": "code",
   "execution_count": null,
   "id": "ffe60495",
   "metadata": {},
   "outputs": [],
   "source": [
    "title = driver.find_elements(By.XPATH,\"//a[@class = 'title fw500 ellipsis']\")\n",
    "title[0:10]"
   ]
  },
  {
   "cell_type": "code",
   "execution_count": null,
   "id": "218a9325",
   "metadata": {},
   "outputs": [],
   "source": [
    "for i in title:\n",
    "    i = i.text\n",
    "    job_title.append(i)\n",
    "job_title[0:10]"
   ]
  },
  {
   "cell_type": "code",
   "execution_count": null,
   "id": "1d1c4820",
   "metadata": {},
   "outputs": [],
   "source": [
    "company = driver.find_elements(By.XPATH,\"//a[@class = 'subTitle ellipsis fleft']\") \n",
    "company[0:10]"
   ]
  },
  {
   "cell_type": "code",
   "execution_count": null,
   "id": "0f6a043a",
   "metadata": {},
   "outputs": [],
   "source": [
    "for b in company:\n",
    "    b = b.text\n",
    "    company_name.append(b)\n",
    "company_name[0:10]"
   ]
  },
  {
   "cell_type": "code",
   "execution_count": null,
   "id": "60cd5059",
   "metadata": {},
   "outputs": [],
   "source": [
    "location = driver.find_elements(By.XPATH,\"//li[@class = 'fleft grey-text br2 placeHolderLi location']\")\n",
    "location[0:10]"
   ]
  },
  {
   "cell_type": "code",
   "execution_count": null,
   "id": "d4ffc5c2",
   "metadata": {},
   "outputs": [],
   "source": [
    "for c in location:\n",
    "    c = c.text\n",
    "    job_location.append(c)\n",
    "job_location[0:10]"
   ]
  },
  {
   "cell_type": "code",
   "execution_count": null,
   "id": "c4260ef6",
   "metadata": {},
   "outputs": [],
   "source": [
    "experience = driver.find_elements(By.XPATH,\"//li[@class = 'fleft grey-text br2 placeHolderLi experience']\")\n",
    "experience[0:10]"
   ]
  },
  {
   "cell_type": "code",
   "execution_count": null,
   "id": "0ed0c746",
   "metadata": {},
   "outputs": [],
   "source": [
    "for j in experience:\n",
    "    j = j.text\n",
    "    job_experience.append(j)\n",
    "job_experience[0:10]"
   ]
  },
  {
   "cell_type": "code",
   "execution_count": null,
   "id": "f6868c07",
   "metadata": {},
   "outputs": [],
   "source": [
    "df = pd.DataFrame()\n",
    "df['title'] = job_title\n",
    "df['name'] = company_name\n",
    "df['location'] = job_location\n",
    "df['experience'] = job_experience\n",
    "df.head(10)"
   ]
  },
  {
   "cell_type": "code",
   "execution_count": null,
   "id": "ad363a3b",
   "metadata": {},
   "outputs": [],
   "source": [
    "s = Service(r\"C:\\Users\\Munish\\Downloads\\chromedriver_win32/chromedriver.exe\")"
   ]
  },
  {
   "cell_type": "code",
   "execution_count": null,
   "id": "558a3b53",
   "metadata": {},
   "outputs": [],
   "source": [
    "driver = webdriver.Chrome(service=s)"
   ]
  },
  {
   "cell_type": "code",
   "execution_count": null,
   "id": "0ef5dcd8",
   "metadata": {},
   "outputs": [],
   "source": [
    "driver.get(\"https://www.flipkart.com/\")"
   ]
  },
  {
   "cell_type": "code",
   "execution_count": null,
   "id": "9c00be3c",
   "metadata": {},
   "outputs": [],
   "source": [
    "search_sg = driver.find_element(By.XPATH,\"//input[@class='_3704LK']\").send_keys(\"sunglasses\")\n",
    "search_sg"
   ]
  },
  {
   "cell_type": "code",
   "execution_count": null,
   "id": "419eba63",
   "metadata": {},
   "outputs": [],
   "source": [
    "search_btn = driver.find_element(By.XPATH,\"//button[@class='L0Z3Pu']\")\n",
    "search_btn.click()"
   ]
  },
  {
   "cell_type": "code",
   "execution_count": null,
   "id": "1789aa02",
   "metadata": {},
   "outputs": [],
   "source": [
    "name = driver.find_elements(By.XPATH,\"//div[@class = '_2WkVRV']\")\n",
    "name"
   ]
  },
  {
   "cell_type": "code",
   "execution_count": null,
   "id": "d416ad6d",
   "metadata": {},
   "outputs": [],
   "source": [
    "p_name = []\n",
    "for i in name:\n",
    "    i = i.text\n",
    "    p_name.append(i)\n",
    "p_name"
   ]
  },
  {
   "cell_type": "code",
   "execution_count": null,
   "id": "db022d5e",
   "metadata": {},
   "outputs": [],
   "source": [
    "discription = driver.find_elements(By.XPATH,\"//a[@class = 'IRpwTa']\")\n",
    "discription"
   ]
  },
  {
   "cell_type": "code",
   "execution_count": null,
   "id": "53830af4",
   "metadata": {},
   "outputs": [],
   "source": [
    "p_d =[]\n",
    "for j in discription:\n",
    "    j = j.text\n",
    "    p_d.append(j)\n",
    "p_d"
   ]
  },
  {
   "cell_type": "code",
   "execution_count": null,
   "id": "4d1e1568",
   "metadata": {},
   "outputs": [],
   "source": [
    "prize = driver.find_elements(By.XPATH,\"//div[@class ='_30jeq3']\")\n",
    "prize[0:40]"
   ]
  },
  {
   "cell_type": "code",
   "execution_count": null,
   "id": "feac68ab",
   "metadata": {},
   "outputs": [],
   "source": [
    "p_prize = []\n",
    "for a in prize:\n",
    "    a=a.text\n",
    "    p_prize.append(a)\n",
    "p_prize"
   ]
  },
  {
   "cell_type": "code",
   "execution_count": null,
   "id": "afca946f",
   "metadata": {},
   "outputs": [],
   "source": [
    "NAME = driver.find_elements(By.XPATH,\"//div[@class = '_2WkVRV']\")\n",
    "NAME"
   ]
  },
  {
   "cell_type": "code",
   "execution_count": null,
   "id": "84f42d2e",
   "metadata": {},
   "outputs": [],
   "source": [
    "P_NAME = []\n",
    "for b in NAME:\n",
    "    b = b.text\n",
    "    P_NAME.append(b)\n",
    "P_NAME"
   ]
  },
  {
   "cell_type": "code",
   "execution_count": null,
   "id": "c3fc2438",
   "metadata": {},
   "outputs": [],
   "source": [
    "DISCRIPTION = driver.find_elements(By.XPATH,\"//a[@class = 'IRpwTa']\")\n",
    "DISCRIPTION"
   ]
  },
  {
   "cell_type": "code",
   "execution_count": null,
   "id": "2fc8c150",
   "metadata": {},
   "outputs": [],
   "source": [
    "P_dis = []\n",
    "for c in DISCRIPTION:\n",
    "    c = c.text\n",
    "    P_dis.append(c)\n",
    "P_dis"
   ]
  },
  {
   "cell_type": "code",
   "execution_count": null,
   "id": "50460847",
   "metadata": {},
   "outputs": [],
   "source": [
    "PRIZE = driver.find_elements(By.XPATH,\"//div[@class ='_30jeq3']\")\n",
    "PRIZE[0:40]"
   ]
  },
  {
   "cell_type": "code",
   "execution_count": null,
   "id": "6ff19163",
   "metadata": {},
   "outputs": [],
   "source": [
    "P_prize = []\n",
    "for d in PRIZE:\n",
    "    d = d.text\n",
    "    P_prize.append(d)\n",
    "P_prize"
   ]
  },
  {
   "cell_type": "code",
   "execution_count": null,
   "id": "c4dc56c3",
   "metadata": {},
   "outputs": [],
   "source": [
    "Name = driver.find_elements(By.XPATH,\"//div[@class = '_2WkVRV']\")\n",
    "Name[0:20]"
   ]
  },
  {
   "cell_type": "code",
   "execution_count": null,
   "id": "c31db673",
   "metadata": {},
   "outputs": [],
   "source": [
    "P_Name =[]\n",
    "for e in Name:\n",
    "    e = e.text\n",
    "    P_Name.append(e)\n",
    "P_Name[0:20]"
   ]
  },
  {
   "cell_type": "code",
   "execution_count": null,
   "id": "b0f82d79",
   "metadata": {},
   "outputs": [],
   "source": [
    "Discription =  driver.find_elements(By.XPATH,\"//a[@class = 'IRpwTa']\")\n",
    "Discription[0:20]"
   ]
  },
  {
   "cell_type": "code",
   "execution_count": null,
   "id": "e523f33b",
   "metadata": {},
   "outputs": [],
   "source": [
    "P_DISC = []\n",
    "for f in Discription:\n",
    "    f = f.text\n",
    "    P_DISC.append(f)\n",
    "P_DISC[0:20]"
   ]
  },
  {
   "cell_type": "code",
   "execution_count": null,
   "id": "08852a91",
   "metadata": {},
   "outputs": [],
   "source": [
    "Prize = driver.find_elements(By.XPATH,\"//div[@class ='_30jeq3']\")\n",
    "Prize[0:20]"
   ]
  },
  {
   "cell_type": "code",
   "execution_count": null,
   "id": "479e1572",
   "metadata": {},
   "outputs": [],
   "source": [
    "P_PRIZE =[]\n",
    "for g in Prize:\n",
    "    g =g.text\n",
    "    P_PRIZE.append(g)\n",
    "P_PRIZE[0:20]"
   ]
  },
  {
   "cell_type": "code",
   "execution_count": null,
   "id": "d809c227",
   "metadata": {},
   "outputs": [],
   "source": [
    "s = Service(r\"C:\\Users\\Munish\\Downloads\\chromedriver_win32/chromedriver.exe\")"
   ]
  },
  {
   "cell_type": "code",
   "execution_count": null,
   "id": "3c8c0017",
   "metadata": {},
   "outputs": [],
   "source": [
    "driver = webdriver.Chrome(service=s)"
   ]
  },
  {
   "cell_type": "code",
   "execution_count": null,
   "id": "16e6f9d6",
   "metadata": {},
   "outputs": [],
   "source": [
    "driver.get(\"https://www.flipkart.com/\")"
   ]
  },
  {
   "cell_type": "code",
   "execution_count": null,
   "id": "82a2aeb7",
   "metadata": {},
   "outputs": [],
   "source": [
    "search_s = driver.find_element(By.XPATH,\"//input[@class='_3704LK']\").send_keys(\"sneakers\")\n",
    "search_s"
   ]
  },
  {
   "cell_type": "code",
   "execution_count": null,
   "id": "aec659cf",
   "metadata": {},
   "outputs": [],
   "source": [
    "search_btn = driver.find_element(By.XPATH,\"//button[@class='L0Z3Pu']\")\n",
    "search_btn.click()"
   ]
  },
  {
   "cell_type": "code",
   "execution_count": null,
   "id": "83a953e0",
   "metadata": {},
   "outputs": [],
   "source": [
    "name = driver.find_elements(By.XPATH,\"//div[@class = '_2WkVRV']\")\n",
    "name"
   ]
  },
  {
   "cell_type": "code",
   "execution_count": null,
   "id": "00263f86",
   "metadata": {},
   "outputs": [],
   "source": [
    "p_name = []\n",
    "for i in name:\n",
    "    i = i.text\n",
    "    p_name.append(i)\n",
    "p_name"
   ]
  },
  {
   "cell_type": "code",
   "execution_count": null,
   "id": "cb3c5bdb",
   "metadata": {},
   "outputs": [],
   "source": [
    "discription = driver.find_elements(By.XPATH,\"//a[@class = 'IRpwTa']\")\n",
    "discription"
   ]
  },
  {
   "cell_type": "code",
   "execution_count": null,
   "id": "598b867f",
   "metadata": {},
   "outputs": [],
   "source": [
    "p_d =[]\n",
    "for j in discription:\n",
    "    j = j.text\n",
    "    p_d.append(j)\n",
    "p_d"
   ]
  },
  {
   "cell_type": "code",
   "execution_count": null,
   "id": "6b68ef8f",
   "metadata": {},
   "outputs": [],
   "source": [
    "prize = driver.find_elements(By.XPATH,\"//div[@class ='_30jeq3']\")\n",
    "prize[0:40]"
   ]
  },
  {
   "cell_type": "code",
   "execution_count": null,
   "id": "df5e89b1",
   "metadata": {},
   "outputs": [],
   "source": [
    "p_prize = []\n",
    "for a in prize:\n",
    "    a=a.text\n",
    "    p_prize.append(a)\n",
    "p_prize"
   ]
  },
  {
   "cell_type": "code",
   "execution_count": null,
   "id": "837b096f",
   "metadata": {},
   "outputs": [],
   "source": [
    "NAME = driver.find_elements(By.XPATH,\"//div[@class = '_2WkVRV']\")\n",
    "NAME"
   ]
  },
  {
   "cell_type": "code",
   "execution_count": null,
   "id": "39d57177",
   "metadata": {},
   "outputs": [],
   "source": [
    "P_NAME = []\n",
    "for b in NAME:\n",
    "    b = b.text\n",
    "    P_NAME.append(b)\n",
    "P_NAME"
   ]
  },
  {
   "cell_type": "code",
   "execution_count": null,
   "id": "26e62a9d",
   "metadata": {},
   "outputs": [],
   "source": [
    "DISCRIPTION = driver.find_elements(By.XPATH,\"//a[@class = 'IRpwTa']\")\n",
    "DISCRIPTION"
   ]
  },
  {
   "cell_type": "code",
   "execution_count": null,
   "id": "f111f4a0",
   "metadata": {},
   "outputs": [],
   "source": [
    "P_dis = []\n",
    "for c in DISCRIPTION:\n",
    "    c = c.text\n",
    "    P_dis.append(c)\n",
    "P_dis"
   ]
  },
  {
   "cell_type": "code",
   "execution_count": null,
   "id": "99bccda1",
   "metadata": {},
   "outputs": [],
   "source": [
    "PRIZE = driver.find_elements(By.XPATH,\"//div[@class ='_30jeq3']\")\n",
    "PRIZE[0:40]"
   ]
  },
  {
   "cell_type": "code",
   "execution_count": null,
   "id": "0cb58733",
   "metadata": {},
   "outputs": [],
   "source": [
    "P_prize = []\n",
    "for d in PRIZE:\n",
    "    d = d.text\n",
    "    P_prize.append(d)\n",
    "P_prize"
   ]
  },
  {
   "cell_type": "code",
   "execution_count": null,
   "id": "199bf996",
   "metadata": {},
   "outputs": [],
   "source": [
    "Name = driver.find_elements(By.XPATH,\"//div[@class = '_2WkVRV']\")\n",
    "Name[0:20]"
   ]
  },
  {
   "cell_type": "code",
   "execution_count": null,
   "id": "388c5689",
   "metadata": {},
   "outputs": [],
   "source": [
    "P_Name =[]\n",
    "for e in Name:\n",
    "    e = e.text\n",
    "    P_Name.append(e)\n",
    "P_Name[0:20]"
   ]
  },
  {
   "cell_type": "code",
   "execution_count": null,
   "id": "82d8fc33",
   "metadata": {},
   "outputs": [],
   "source": [
    "Discription =  driver.find_elements(By.XPATH,\"//a[@class = 'IRpwTa']\")\n",
    "Discription[0:20]"
   ]
  },
  {
   "cell_type": "code",
   "execution_count": null,
   "id": "519e6311",
   "metadata": {},
   "outputs": [],
   "source": [
    "P_DISC = []\n",
    "for f in Discription:\n",
    "    f = f.text\n",
    "    P_DISC.append(f)\n",
    "P_DISC[0:20]"
   ]
  },
  {
   "cell_type": "code",
   "execution_count": null,
   "id": "eec4818a",
   "metadata": {},
   "outputs": [],
   "source": [
    "Prize = driver.find_elements(By.XPATH,\"//div[@class ='_30jeq3']\")\n",
    "Prize[0:20]"
   ]
  },
  {
   "cell_type": "code",
   "execution_count": null,
   "id": "46a1f967",
   "metadata": {},
   "outputs": [],
   "source": [
    "P_PRIZE =[]\n",
    "for g in Prize:\n",
    "    g =g.text\n",
    "    P_PRIZE.append(g)\n",
    "P_PRIZE[0:20]"
   ]
  },
  {
   "cell_type": "code",
   "execution_count": null,
   "id": "2ce56599",
   "metadata": {},
   "outputs": [],
   "source": [
    "s = Service(r\"C:\\Users\\Munish\\Downloads\\chromedriver_win32/chromedriver.exe\")"
   ]
  },
  {
   "cell_type": "code",
   "execution_count": null,
   "id": "ba115282",
   "metadata": {},
   "outputs": [],
   "source": [
    "driver = webdriver.Chrome(service=s)"
   ]
  },
  {
   "cell_type": "code",
   "execution_count": null,
   "id": "a804119b",
   "metadata": {},
   "outputs": [],
   "source": [
    "driver.get(\"https://www.myntra.com/shoes \")"
   ]
  },
  {
   "cell_type": "code",
   "execution_count": null,
   "id": "6b4a6662",
   "metadata": {},
   "outputs": [],
   "source": [
    "select_price = driver.find_element(By.XPATH,\"/html/body/div[2]/div/div[1]/main/div[3]/div[1]/section/div/div[5]/ul/li[2]/label\")\n",
    "select_price.click()"
   ]
  },
  {
   "cell_type": "code",
   "execution_count": null,
   "id": "5557b9b8",
   "metadata": {},
   "outputs": [],
   "source": [
    "select_colour = driver.find_element(By.XPATH,\"/html/body/div[2]/div/div[1]/main/div[3]/div[1]/section/div/div[6]/ul/li[1]/label\")\n",
    "select_colour.click()"
   ]
  },
  {
   "cell_type": "code",
   "execution_count": null,
   "id": "0dd2e23e",
   "metadata": {},
   "outputs": [],
   "source": [
    "name = driver.find_elements(By.XPATH,\"//h3[@class = 'product-brand']\")\n",
    "name"
   ]
  },
  {
   "cell_type": "code",
   "execution_count": null,
   "id": "05153cec",
   "metadata": {},
   "outputs": [],
   "source": [
    "p_name = []\n",
    "for a in name:\n",
    "    a = a.text\n",
    "    p_name.append(a)\n",
    "p_name"
   ]
  },
  {
   "cell_type": "code",
   "execution_count": null,
   "id": "9e350d2e",
   "metadata": {},
   "outputs": [],
   "source": [
    "discription = driver.find_elements(By.XPATH,\"//h4[@class = 'product-product']\")\n",
    "discription"
   ]
  },
  {
   "cell_type": "code",
   "execution_count": null,
   "id": "9e25c55d",
   "metadata": {},
   "outputs": [],
   "source": [
    "p_d = []\n",
    "for b in discription:\n",
    "    b = b.text\n",
    "    p_d.append(b)\n",
    "p_d"
   ]
  },
  {
   "cell_type": "code",
   "execution_count": null,
   "id": "8ffe422e",
   "metadata": {},
   "outputs": [],
   "source": [
    "price = driver.find_elements(By.XPATH,\"//div[@class = 'product-price']\")\n",
    "price"
   ]
  },
  {
   "cell_type": "code",
   "execution_count": null,
   "id": "ba76714b",
   "metadata": {},
   "outputs": [],
   "source": [
    "p_price = []\n",
    "for c in price:\n",
    "    c =c.text\n",
    "    p_price.append(c)\n",
    "p_price"
   ]
  },
  {
   "cell_type": "code",
   "execution_count": null,
   "id": "b9e6646e",
   "metadata": {},
   "outputs": [],
   "source": [
    "Name = driver.find_elements(By.XPATH,\"//h3[@class = 'product-brand']\")\n",
    "Name"
   ]
  },
  {
   "cell_type": "code",
   "execution_count": null,
   "id": "5835a864",
   "metadata": {},
   "outputs": [],
   "source": [
    "P_Name = []\n",
    "for c in Name:\n",
    "    c = c.text\n",
    "    P_Name.append(c)\n",
    "P_Name"
   ]
  },
  {
   "cell_type": "code",
   "execution_count": null,
   "id": "6f89a654",
   "metadata": {},
   "outputs": [],
   "source": [
    "Discription = driver.find_elements(By.XPATH,\"//h4[@class = 'product-product']\")\n",
    "Discription"
   ]
  },
  {
   "cell_type": "code",
   "execution_count": null,
   "id": "d5ec4d91",
   "metadata": {},
   "outputs": [],
   "source": [
    "P_D = []\n",
    "for e in Discription:\n",
    "    e = e.text\n",
    "    P_D.append(e)\n",
    "P_D "
   ]
  },
  {
   "cell_type": "code",
   "execution_count": null,
   "id": "1c46646b",
   "metadata": {},
   "outputs": [],
   "source": [
    "Price = driver.find_elements(By.XPATH,\"//div[@class = 'product-price']\")\n",
    "Price"
   ]
  },
  {
   "cell_type": "code",
   "execution_count": null,
   "id": "0ce85ffd",
   "metadata": {},
   "outputs": [],
   "source": [
    "P_Price = []\n",
    "for f in Price:\n",
    "    f = f.text\n",
    "    P_Price.append(f)\n",
    "P_Price"
   ]
  },
  {
   "cell_type": "code",
   "execution_count": null,
   "id": "07e3cf6f",
   "metadata": {},
   "outputs": [],
   "source": [
    "s = Service(r\"C:\\Users\\Munish\\Downloads\\chromedriver_win32/chromedriver.exe\")"
   ]
  },
  {
   "cell_type": "code",
   "execution_count": null,
   "id": "5423b80d",
   "metadata": {},
   "outputs": [],
   "source": [
    "driver = webdriver.Chrome(service=s)"
   ]
  },
  {
   "cell_type": "code",
   "execution_count": null,
   "id": "cabe2199",
   "metadata": {},
   "outputs": [],
   "source": [
    "driver.get(\"https://www.amazon.in/\")"
   ]
  },
  {
   "cell_type": "code",
   "execution_count": null,
   "id": "0e2ae803",
   "metadata": {},
   "outputs": [],
   "source": [
    "search_l = driver.find_element(By.ID,\"twotabsearchtextbox\").send_keys(\"laptop\")\n",
    "search_l"
   ]
  },
  {
   "cell_type": "code",
   "execution_count": null,
   "id": "9da8fe3e",
   "metadata": {},
   "outputs": [],
   "source": [
    "search_b = driver.find_element(By.ID,\"nav-search-submit-button\")\n",
    "search_b.click()"
   ]
  },
  {
   "cell_type": "code",
   "execution_count": null,
   "id": "de170e92",
   "metadata": {},
   "outputs": [],
   "source": [
    "search_f = driver.find_element(By.XPATH,\"/html/body/div[1]/div[2]/div[1]/div[2]/div/div[3]/span/div[1]/span/div/div/div[6]/ul[11]/li[12]/span/a/span\")\n",
    "search_f.click()"
   ]
  },
  {
   "cell_type": "code",
   "execution_count": null,
   "id": "1d78174d",
   "metadata": {},
   "outputs": [],
   "source": [
    "name = driver.find_elements(By.XPATH,\"//h2[@class = 'a-size-mini a-spacing-none a-color-base s-line-clamp-2']\")\n",
    "name[0:10]"
   ]
  },
  {
   "cell_type": "code",
   "execution_count": null,
   "id": "8310b895",
   "metadata": {},
   "outputs": [],
   "source": [
    "title = []\n",
    "for a in name:\n",
    "    a = a.text\n",
    "    title.append(a)\n",
    "title[0:10]"
   ]
  },
  {
   "cell_type": "code",
   "execution_count": null,
   "id": "addfdac6",
   "metadata": {},
   "outputs": [],
   "source": [
    "price = driver.find_elements(By.XPATH,\"//span[@class='a-price-whole']\")\n",
    "price[0:10]"
   ]
  },
  {
   "cell_type": "code",
   "execution_count": null,
   "id": "9dcb790e",
   "metadata": {},
   "outputs": [],
   "source": [
    "p_price = []\n",
    "for d in price:\n",
    "    d =d.text\n",
    "    p_price.append(d)\n",
    "p_price[0:10]"
   ]
  },
  {
   "cell_type": "code",
   "execution_count": null,
   "id": "d092741b",
   "metadata": {},
   "outputs": [],
   "source": [
    "fil = driver.find_element(By.XPATH,\"/html/body/div[1]/div[2]/div[1]/div[2]/div/div[3]/span/div[1]/span/div/div/div[6]/ul[1]/li[13]/span/a/span\")\n",
    "fil.click()"
   ]
  },
  {
   "cell_type": "code",
   "execution_count": null,
   "id": "866511fa",
   "metadata": {},
   "outputs": [],
   "source": [
    "Name = driver.find_elements(By.XPATH,\"//h2[@class = 'a-size-mini a-spacing-none a-color-base s-line-clamp-2']\")\n",
    "Name"
   ]
  },
  {
   "cell_type": "code",
   "execution_count": null,
   "id": "47ca2f8a",
   "metadata": {},
   "outputs": [],
   "source": [
    "P_Name=[]\n",
    "for e in Name:\n",
    "    e = e.text\n",
    "    P_Name.append(e)\n",
    "P_Name"
   ]
  },
  {
   "cell_type": "code",
   "execution_count": null,
   "id": "496c4065",
   "metadata": {},
   "outputs": [],
   "source": [
    "Price = driver.find_elements(By.XPATH,\"//span[@class='a-price-whole']\")\n",
    "Price"
   ]
  },
  {
   "cell_type": "code",
   "execution_count": null,
   "id": "7f12875b",
   "metadata": {},
   "outputs": [],
   "source": [
    "P_Price = []\n",
    "for f in Price:\n",
    "    f = f.text\n",
    "    P_Price.append(f)\n",
    "P_Price"
   ]
  },
  {
   "cell_type": "code",
   "execution_count": null,
   "id": "40f34862",
   "metadata": {},
   "outputs": [],
   "source": [
    "s = Service(r\"C:\\Users\\Munish\\Downloads\\chromedriver_win32/chromedriver.exe\")"
   ]
  },
  {
   "cell_type": "code",
   "execution_count": null,
   "id": "1b48a3ff",
   "metadata": {},
   "outputs": [],
   "source": [
    "driver = webdriver.Chrome(service=s)"
   ]
  },
  {
   "cell_type": "code",
   "execution_count": null,
   "id": "310f7ba7",
   "metadata": {},
   "outputs": [],
   "source": [
    "driver.get(\"https://www.ambitionbox.com/\")"
   ]
  },
  {
   "cell_type": "code",
   "execution_count": null,
   "id": "05ac509b",
   "metadata": {},
   "outputs": [],
   "source": [
    "search_job = driver.find_element(By.XPATH,\"//input[@class='input tt-input']\").send_keys(\"Data Scientist\")\n",
    "search_job"
   ]
  },
  {
   "cell_type": "code",
   "execution_count": null,
   "id": "196c8bc6",
   "metadata": {},
   "outputs": [],
   "source": [
    "search = driver.find_element(By.XPATH,\"//button[@class = 'ab_btn search-btn round']\")\n",
    "search.click()"
   ]
  },
  {
   "cell_type": "code",
   "execution_count": null,
   "id": "99b656f6",
   "metadata": {},
   "outputs": [],
   "source": [
    "location = driver.find_element(By.XPATH,\"/html/body/div/div/div/div[2]/div[2]/div[1]/div/div/div/div[2]/div[1]\")\n",
    "location.click()"
   ]
  },
  {
   "cell_type": "code",
   "execution_count": null,
   "id": "81eb3045",
   "metadata": {},
   "outputs": [],
   "source": [
    "search_location = driver.find_element(By.XPATH,\"/html/body/div/div/div/div[2]/div[2]/div[1]/div/div/div/div[2]/div[2]/div/div[3]/div[1]/div[5]/div/label\")\n",
    "search_location.click()"
   ]
  },
  {
   "cell_type": "code",
   "execution_count": null,
   "id": "7898d434",
   "metadata": {},
   "outputs": [],
   "source": [
    "title = driver.find_elements(By.XPATH,\"//a[@class='company sbold-section-header']\")\n",
    "title"
   ]
  },
  {
   "cell_type": "code",
   "execution_count": null,
   "id": "13709738",
   "metadata": {},
   "outputs": [],
   "source": [
    "name = []\n",
    "for a in title:\n",
    "    a=a.text\n",
    "    name.append(a)\n",
    "name"
   ]
  },
  {
   "cell_type": "code",
   "execution_count": null,
   "id": "2682d2d9",
   "metadata": {},
   "outputs": [],
   "source": [
    "rating = driver.find_elements(By.XPATH,\"//a[@class ='rating rating-4']\")\n",
    "rating"
   ]
  },
  {
   "cell_type": "code",
   "execution_count": null,
   "id": "0e95052d",
   "metadata": {},
   "outputs": [],
   "source": [
    "r = []\n",
    "for b in rating:\n",
    "    b = b.text\n",
    "    r.append(b)\n",
    "r"
   ]
  },
  {
   "cell_type": "code",
   "execution_count": null,
   "id": "b46f6375",
   "metadata": {},
   "outputs": [],
   "source": [
    "Rating = driver.find_elements(By.XPATH,\"//a[@class ='rating rating-35']\")\n",
    "Rating"
   ]
  },
  {
   "cell_type": "code",
   "execution_count": null,
   "id": "a710d083",
   "metadata": {},
   "outputs": [],
   "source": [
    "RATING =[]\n",
    "for j in Rating:\n",
    "    j = j.text\n",
    "    RATING.append(j)\n",
    "RATING"
   ]
  },
  {
   "cell_type": "code",
   "execution_count": null,
   "id": "699a575e",
   "metadata": {},
   "outputs": [],
   "source": [
    "pos = driver.find_elements(By.XPATH,\"//p[@class = 'postedon']\")\n",
    "pos"
   ]
  },
  {
   "cell_type": "code",
   "execution_count": null,
   "id": "414fcd7d",
   "metadata": {},
   "outputs": [],
   "source": [
    "po = []\n",
    "for c in pos:\n",
    "    c = c.text\n",
    "    po.append(c)\n",
    "po"
   ]
  },
  {
   "cell_type": "code",
   "execution_count": null,
   "id": "55d947e4",
   "metadata": {},
   "outputs": [],
   "source": [
    "s = Service(r\"C:\\Users\\Munish\\Downloads\\chromedriver_win32/chromedriver.exe\")"
   ]
  },
  {
   "cell_type": "code",
   "execution_count": null,
   "id": "8505c764",
   "metadata": {},
   "outputs": [],
   "source": [
    "driver = webdriver.Chrome(service=s)"
   ]
  },
  {
   "cell_type": "code",
   "execution_count": null,
   "id": "85d7441c",
   "metadata": {},
   "outputs": [],
   "source": [
    "driver.get(\"https://www.ambitionbox.com/\")"
   ]
  },
  {
   "cell_type": "code",
   "execution_count": null,
   "id": "d6fad3ef",
   "metadata": {},
   "outputs": [],
   "source": [
    "search_job = driver.find_element(By.ID,'jobProfileSearchbox').send_keys(\"Data Scientist\")\n",
    "search_job"
   ]
  },
  {
   "cell_type": "code",
   "execution_count": null,
   "id": "c091c8fa",
   "metadata": {},
   "outputs": [],
   "source": [
    "salary = driver.find_elements(By.XPATH,\"//div[@class='value body-medium']\")\n",
    "salary[0:20]"
   ]
  },
  {
   "cell_type": "code",
   "execution_count": null,
   "id": "5dd02c8c",
   "metadata": {},
   "outputs": [],
   "source": [
    "Salary = []\n",
    "for a in salary:\n",
    "    a = a.text\n",
    "    Salary.append(a)\n",
    "Salary"
   ]
  },
  {
   "cell_type": "code",
   "execution_count": null,
   "id": "ddfa0d88",
   "metadata": {},
   "outputs": [],
   "source": [
    "min_salary = []\n",
    "for b in range(0,20,2):\n",
    "    min_salary.append(Salary[b])\n",
    "min_salary"
   ]
  },
  {
   "cell_type": "code",
   "execution_count": null,
   "id": "c8c869ce",
   "metadata": {},
   "outputs": [],
   "source": [
    "max_salary = []\n",
    "for c in range(1,20,2):\n",
    "    max_salary.append(Salary[c])\n",
    "max_salary"
   ]
  },
  {
   "cell_type": "code",
   "execution_count": null,
   "id": "de4f65ab",
   "metadata": {},
   "outputs": [],
   "source": [
    "SALARY = driver.find_elements(By.XPATH,\"//p[@class ='averageCtc']\")\n",
    "SALARY"
   ]
  },
  {
   "cell_type": "code",
   "execution_count": null,
   "id": "fe769aaa",
   "metadata": {},
   "outputs": [],
   "source": [
    "ave_salary = []\n",
    "for d in SALARY:\n",
    "    d = d.text\n",
    "    ave_salary.append(d)\n",
    "ave_salary"
   ]
  },
  {
   "cell_type": "code",
   "execution_count": null,
   "id": "01d55caa",
   "metadata": {},
   "outputs": [],
   "source": []
  },
  {
   "cell_type": "code",
   "execution_count": null,
   "id": "24bac4ce",
   "metadata": {},
   "outputs": [],
   "source": []
  },
  {
   "cell_type": "code",
   "execution_count": null,
   "id": "01e1f62b",
   "metadata": {},
   "outputs": [],
   "source": []
  }
 ],
 "metadata": {
  "kernelspec": {
   "display_name": "Python 3",
   "language": "python",
   "name": "python3"
  },
  "language_info": {
   "codemirror_mode": {
    "name": "ipython",
    "version": 3
   },
   "file_extension": ".py",
   "mimetype": "text/x-python",
   "name": "python",
   "nbconvert_exporter": "python",
   "pygments_lexer": "ipython3",
   "version": "3.8.8"
  }
 },
 "nbformat": 4,
 "nbformat_minor": 5
}
